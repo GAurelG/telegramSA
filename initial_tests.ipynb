{
 "cells": [
  {
   "cell_type": "code",
   "execution_count": 4,
   "metadata": {},
   "outputs": [],
   "source": [
    "#import shutil as shutil\n",
    "#shutil.which(\"python3\")\n"
   ]
  },
  {
   "cell_type": "code",
   "execution_count": 1,
   "metadata": {},
   "outputs": [],
   "source": [
    "from pathlib import Path\n",
    "from bs4 import BeautifulSoup\n",
    "import re as re\n",
    "\n",
    "#current_path = Path(__file__).parent\n",
    "file_path = \"/home/aurelien/Programation/telegramSA/Data/messages.html\"\n",
    "\n",
    "\n",
    "with open(file_path) as fp:\n",
    "    soup = BeautifulSoup(fp, \"lxml\")"
   ]
  },
  {
   "cell_type": "code",
   "execution_count": 1,
   "metadata": {},
   "outputs": [],
   "source": [
    "#soup.contents"
   ]
  },
  {
   "cell_type": "code",
   "execution_count": 2,
   "metadata": {},
   "outputs": [],
   "source": [
    "#print(soup.find(attrs={\"class\" : \"message default clearfix\"}).prettify())"
   ]
  },
  {
   "cell_type": "code",
   "execution_count": 14,
   "metadata": {},
   "outputs": [
    {
     "name": "stdout",
     "output_type": "stream",
     "text": [
      "<div class=\"message default clearfix\" id=\"message173603\">\n",
      " <div class=\"pull_left userpic_wrap\">\n",
      "  <div class=\"userpic userpic8\" style=\"width: 42px; height: 42px\">\n",
      "   <div class=\"initials\" style=\"line-height: 42px\">\n",
      "    FP\n",
      "   </div>\n",
      "  </div>\n",
      " </div>\n",
      " <div class=\"body\">\n",
      "  <div class=\"pull_right date details\" title=\"01.06.2019 13:46:08\">\n",
      "   13:46\n",
      "  </div>\n",
      "  <div class=\"from_name\">\n",
      "   Fiona Paul\n",
      "  </div>\n",
      "  <div class=\"media_wrap clearfix\">\n",
      "   <div class=\"media clearfix pull_left media_photo\">\n",
      "    <div class=\"fill pull_left\">\n",
      "    </div>\n",
      "    <div class=\"body\">\n",
      "     <div class=\"title bold\">\n",
      "      Photo\n",
      "     </div>\n",
      "     <div class=\"description\">\n",
      "      Not included, change data exporting settings to download.\n",
      "     </div>\n",
      "     <div class=\"status details\">\n",
      "      960x1280, 609.9 KB\n",
      "     </div>\n",
      "    </div>\n",
      "   </div>\n",
      "  </div>\n",
      " </div>\n",
      "</div>\n",
      "\n"
     ]
    }
   ],
   "source": [
    "raw_messages = soup.find_all(attrs = {\"class\" : \"message default clearfix\"})\n",
    "\n",
    "def findMedia(html_msg):\n",
    "    ret = None\n",
    "    if html_msg.find(attrs = {\"class\" : \"media\"}):\n",
    "        ret = html_msg\n",
    "    return ret\n",
    "\n",
    "media_lst = [ findMedia(media) for media in raw_messages]\n",
    "\n",
    "print(media_lst[0].prettify())"
   ]
  },
  {
   "cell_type": "code",
   "execution_count": 7,
   "metadata": {},
   "outputs": [
    {
     "data": {
      "text/plain": [
       "{'message_id': 'message173603',\n",
       " 'time': '01.06.2019 13:46:08',\n",
       " 'user': 'Fiona Paul',\n",
       " 'message': 'not found',\n",
       " 'hashtag': [],\n",
       " 'links': [],\n",
       " 'raw_message': <div class=\"message default clearfix\" id=\"message173603\">\n",
       " <div class=\"pull_left userpic_wrap\">\n",
       " <div class=\"userpic userpic8\" style=\"width: 42px; height: 42px\">\n",
       " <div class=\"initials\" style=\"line-height: 42px\">\n",
       " FP\n",
       "         </div>\n",
       " </div>\n",
       " </div>\n",
       " <div class=\"body\">\n",
       " <div class=\"pull_right date details\" title=\"01.06.2019 13:46:08\">\n",
       " 13:46\n",
       "        </div>\n",
       " <div class=\"from_name\">\n",
       " Fiona Paul\n",
       "        </div>\n",
       " <div class=\"media_wrap clearfix\">\n",
       " <div class=\"media clearfix pull_left media_photo\">\n",
       " <div class=\"fill pull_left\">\n",
       " </div>\n",
       " <div class=\"body\">\n",
       " <div class=\"title bold\">\n",
       " Photo\n",
       "           </div>\n",
       " <div class=\"description\">\n",
       " Not included, change data exporting settings to download.\n",
       "           </div>\n",
       " <div class=\"status details\">\n",
       " 960x1280, 609.9 KB\n",
       "           </div>\n",
       " </div>\n",
       " </div>\n",
       " </div>\n",
       " </div>\n",
       " </div>}"
      ]
     },
     "execution_count": 7,
     "metadata": {},
     "output_type": "execute_result"
    }
   ],
   "source": [
    "raw_messages = soup.find_all(attrs = {\"class\" : \"message default clearfix\"})\n",
    "\n",
    "def cleanHashtags(html_message_list):\n",
    "    try:\n",
    "        ret = [hashtag.string.strip(\"#\") for hashtag in html_message_list]\n",
    "    except:\n",
    "        ret = html_message_list\n",
    "    return ret\n",
    "\n",
    "def cleanLinks(html_links_list):\n",
    "    ret = [link[\"href\"] for link in html_links_list]\n",
    "    return ret\n",
    "\n",
    "def extractMessage(html_message):\n",
    "    msg = { \"message_id\" : html_message['id'],\n",
    "            \"time\" : html_message.find(attrs = {\"class\" : \"date\"})['title'],\n",
    "            \"user\" : html_message.find(attrs = {\"class\" : \"from_name\"}).string,\n",
    "            \"message\" :  None,\n",
    "            \"hashtag\" : cleanHashtags(html_message.find_all(attrs = {\"onclick\" : re.compile(\"ShowHashtag(.*)\")})),\n",
    "            \"links\" : cleanLinks(html_message.find_all(href=re.compile(\".\"))),\n",
    "            \"raw_message\" : html_message\n",
    "    }\n",
    "    if html_message.find(attrs = {\"class\" : \"text\"}):\n",
    "        msg[\"message\"] = html_message.find(attrs = {\"class\" : \"text\"}).next_element\n",
    "        # using the fact that .next_element return the inside of the message which is empty before \n",
    "        # the next <a> tag inside (for cases of link/hashtags)\n",
    "    else:\n",
    "        msg[\"message\"] = \"not found\"\n",
    "    try:\n",
    "        msg[\"user\"] = msg[\"user\"].strip()\n",
    "        msg[\"message\"] = msg[\"message\"].strip()\n",
    "    except:\n",
    "        pass\n",
    "    return msg\n",
    "\n",
    "msg_list = [extractMessage(items) for items in raw_messages]\n",
    "msg_list[0]\n",
    "\n",
    "#for l in msg_list:\n",
    "#    if l[\"message\"] == \"\":\n",
    "#        print(\"###########\")\n",
    "#        print(l[\"raw_message\"])"
   ]
  }
 ],
 "metadata": {
  "kernelspec": {
   "display_name": "Python 3",
   "language": "python",
   "name": "python3"
  },
  "language_info": {
   "codemirror_mode": {
    "name": "ipython",
    "version": 3
   },
   "file_extension": ".py",
   "mimetype": "text/x-python",
   "name": "python",
   "nbconvert_exporter": "python",
   "pygments_lexer": "ipython3",
   "version": "3.6.9"
  }
 },
 "nbformat": 4,
 "nbformat_minor": 2
}
